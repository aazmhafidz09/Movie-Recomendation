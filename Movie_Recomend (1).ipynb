{
  "nbformat": 4,
  "nbformat_minor": 0,
  "metadata": {
    "colab": {
      "name": "Movie Recomend.ipynb",
      "provenance": [],
      "collapsed_sections": []
    },
    "kernelspec": {
      "name": "python3",
      "display_name": "Python 3"
    },
    "accelerator": "GPU"
  },
  "cells": [
    {
      "cell_type": "code",
      "metadata": {
        "colab": {
          "base_uri": "https://localhost:8080/"
        },
        "id": "_DZb2IboqwLb",
        "outputId": "525b9ee8-eeca-4ecb-b98a-5a3a16e2a528"
      },
      "source": [
        "pip install pymining"
      ],
      "execution_count": 11,
      "outputs": [
        {
          "output_type": "stream",
          "text": [
            "Requirement already satisfied: pymining in /usr/local/lib/python3.6/dist-packages (0.2)\n"
          ],
          "name": "stdout"
        }
      ]
    },
    {
      "cell_type": "code",
      "metadata": {
        "id": "G-3kxEuAq20v"
      },
      "source": [
        "from pymining import itemmining\n",
        "import pandas as pd\n",
        "import numpy as np\n",
        "import random"
      ],
      "execution_count": 12,
      "outputs": []
    },
    {
      "cell_type": "code",
      "metadata": {
        "colab": {
          "resources": {
            "http://localhost:8080/nbextensions/google.colab/files.js": {
              "data": "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",
              "ok": true,
              "headers": [
                [
                  "content-type",
                  "application/javascript"
                ]
              ],
              "status": 200,
              "status_text": ""
            }
          },
          "base_uri": "https://localhost:8080/",
          "height": 38
        },
        "id": "Wtub465biGf0",
        "outputId": "8bf1dba3-475b-4c6d-ea65-1760e85a94fa"
      },
      "source": [
        "from google.colab import files\n",
        "upload = files.upload()"
      ],
      "execution_count": 13,
      "outputs": [
        {
          "output_type": "display_data",
          "data": {
            "text/html": [
              "\n",
              "     <input type=\"file\" id=\"files-8badcc48-6e2d-4b08-915f-ed49e4beec54\" name=\"files[]\" multiple disabled\n",
              "        style=\"border:none\" />\n",
              "     <output id=\"result-8badcc48-6e2d-4b08-915f-ed49e4beec54\">\n",
              "      Upload widget is only available when the cell has been executed in the\n",
              "      current browser session. Please rerun this cell to enable.\n",
              "      </output>\n",
              "      <script src=\"/nbextensions/google.colab/files.js\"></script> "
            ],
            "text/plain": [
              "<IPython.core.display.HTML object>"
            ]
          },
          "metadata": {
            "tags": []
          }
        }
      ]
    },
    {
      "cell_type": "code",
      "metadata": {
        "colab": {
          "base_uri": "https://localhost:8080/",
          "height": 434
        },
        "id": "Xqp84PZvXOee",
        "outputId": "94e65582-abb3-4c2d-f4af-bea05852932c"
      },
      "source": [
        "df = pd.read_excel('/content/movie_metadata.csv.xlsx')\n",
        "df.head()"
      ],
      "execution_count": 15,
      "outputs": [
        {
          "output_type": "execute_result",
          "data": {
            "text/html": [
              "<div>\n",
              "<style scoped>\n",
              "    .dataframe tbody tr th:only-of-type {\n",
              "        vertical-align: middle;\n",
              "    }\n",
              "\n",
              "    .dataframe tbody tr th {\n",
              "        vertical-align: top;\n",
              "    }\n",
              "\n",
              "    .dataframe thead th {\n",
              "        text-align: right;\n",
              "    }\n",
              "</style>\n",
              "<table border=\"1\" class=\"dataframe\">\n",
              "  <thead>\n",
              "    <tr style=\"text-align: right;\">\n",
              "      <th></th>\n",
              "      <th>color</th>\n",
              "      <th>director_name</th>\n",
              "      <th>num_critic_for_reviews</th>\n",
              "      <th>duration</th>\n",
              "      <th>director_facebook_likes</th>\n",
              "      <th>actor_3_facebook_likes</th>\n",
              "      <th>actor_2_name</th>\n",
              "      <th>actor_1_facebook_likes</th>\n",
              "      <th>gross</th>\n",
              "      <th>genres</th>\n",
              "      <th>actor_1_name</th>\n",
              "      <th>movie_title</th>\n",
              "      <th>num_voted_users</th>\n",
              "      <th>cast_total_facebook_likes</th>\n",
              "      <th>actor_3_name</th>\n",
              "      <th>facenumber_in_poster</th>\n",
              "      <th>plot_keywords</th>\n",
              "      <th>movie_imdb_link</th>\n",
              "      <th>num_user_for_reviews</th>\n",
              "      <th>language</th>\n",
              "      <th>country</th>\n",
              "      <th>content_rating</th>\n",
              "      <th>budget</th>\n",
              "      <th>title_year</th>\n",
              "      <th>actor_2_facebook_likes</th>\n",
              "      <th>imdb_score</th>\n",
              "      <th>aspect_ratio</th>\n",
              "      <th>movie_facebook_likes</th>\n",
              "      <th>Unnamed: 28</th>\n",
              "      <th>User</th>\n",
              "      <th>Movie</th>\n",
              "      <th>Rating</th>\n",
              "    </tr>\n",
              "  </thead>\n",
              "  <tbody>\n",
              "    <tr>\n",
              "      <th>0</th>\n",
              "      <td>Color</td>\n",
              "      <td>James Cameron</td>\n",
              "      <td>723.0</td>\n",
              "      <td>178.0</td>\n",
              "      <td>0.0</td>\n",
              "      <td>855.0</td>\n",
              "      <td>Joel David Moore</td>\n",
              "      <td>1000.0</td>\n",
              "      <td>760505847.0</td>\n",
              "      <td>Action|Adventure|Fantasy|Sci-Fi</td>\n",
              "      <td>CCH Pounder</td>\n",
              "      <td>Avatar</td>\n",
              "      <td>886204</td>\n",
              "      <td>4834</td>\n",
              "      <td>Wes Studi</td>\n",
              "      <td>0.0</td>\n",
              "      <td>avatar|future|marine|native|paraplegic</td>\n",
              "      <td>http://www.imdb.com/title/tt0499549/?ref_=fn_t...</td>\n",
              "      <td>3054.0</td>\n",
              "      <td>English</td>\n",
              "      <td>USA</td>\n",
              "      <td>PG-13</td>\n",
              "      <td>237000000.0</td>\n",
              "      <td>2009.0</td>\n",
              "      <td>936.0</td>\n",
              "      <td>7.9</td>\n",
              "      <td>1.78</td>\n",
              "      <td>33000</td>\n",
              "      <td>NaN</td>\n",
              "      <td>2.0</td>\n",
              "      <td>Avatar</td>\n",
              "      <td>7.9</td>\n",
              "    </tr>\n",
              "    <tr>\n",
              "      <th>1</th>\n",
              "      <td>Color</td>\n",
              "      <td>Gore Verbinski</td>\n",
              "      <td>302.0</td>\n",
              "      <td>169.0</td>\n",
              "      <td>563.0</td>\n",
              "      <td>1000.0</td>\n",
              "      <td>Orlando Bloom</td>\n",
              "      <td>40000.0</td>\n",
              "      <td>309404152.0</td>\n",
              "      <td>Action|Adventure|Fantasy</td>\n",
              "      <td>Johnny Depp</td>\n",
              "      <td>Pirates of the Caribbean: At World's End</td>\n",
              "      <td>471220</td>\n",
              "      <td>48350</td>\n",
              "      <td>Jack Davenport</td>\n",
              "      <td>0.0</td>\n",
              "      <td>goddess|marriage ceremony|marriage proposal|pi...</td>\n",
              "      <td>http://www.imdb.com/title/tt0449088/?ref_=fn_t...</td>\n",
              "      <td>1238.0</td>\n",
              "      <td>English</td>\n",
              "      <td>USA</td>\n",
              "      <td>PG-13</td>\n",
              "      <td>300000000.0</td>\n",
              "      <td>2007.0</td>\n",
              "      <td>5000.0</td>\n",
              "      <td>7.1</td>\n",
              "      <td>2.35</td>\n",
              "      <td>0</td>\n",
              "      <td>NaN</td>\n",
              "      <td>1.0</td>\n",
              "      <td>Pirates of the Caribbean: At World's End</td>\n",
              "      <td>7.1</td>\n",
              "    </tr>\n",
              "    <tr>\n",
              "      <th>2</th>\n",
              "      <td>Color</td>\n",
              "      <td>Sam Mendes</td>\n",
              "      <td>602.0</td>\n",
              "      <td>148.0</td>\n",
              "      <td>0.0</td>\n",
              "      <td>161.0</td>\n",
              "      <td>Rory Kinnear</td>\n",
              "      <td>11000.0</td>\n",
              "      <td>200074175.0</td>\n",
              "      <td>Action|Adventure|Thriller</td>\n",
              "      <td>Christoph Waltz</td>\n",
              "      <td>Spectre</td>\n",
              "      <td>275868</td>\n",
              "      <td>11700</td>\n",
              "      <td>Stephanie Sigman</td>\n",
              "      <td>1.0</td>\n",
              "      <td>bomb|espionage|sequel|spy|terrorist</td>\n",
              "      <td>http://www.imdb.com/title/tt2379713/?ref_=fn_t...</td>\n",
              "      <td>994.0</td>\n",
              "      <td>English</td>\n",
              "      <td>UK</td>\n",
              "      <td>PG-13</td>\n",
              "      <td>245000000.0</td>\n",
              "      <td>2015.0</td>\n",
              "      <td>393.0</td>\n",
              "      <td>6.8</td>\n",
              "      <td>2.35</td>\n",
              "      <td>85000</td>\n",
              "      <td>NaN</td>\n",
              "      <td>3.0</td>\n",
              "      <td>Spectre</td>\n",
              "      <td>6.8</td>\n",
              "    </tr>\n",
              "    <tr>\n",
              "      <th>3</th>\n",
              "      <td>Color</td>\n",
              "      <td>Christopher Nolan</td>\n",
              "      <td>813.0</td>\n",
              "      <td>164.0</td>\n",
              "      <td>22000.0</td>\n",
              "      <td>23000.0</td>\n",
              "      <td>Christian Bale</td>\n",
              "      <td>27000.0</td>\n",
              "      <td>448130642.0</td>\n",
              "      <td>Action|Thriller</td>\n",
              "      <td>Tom Hardy</td>\n",
              "      <td>The Dark Knight Rises</td>\n",
              "      <td>1144337</td>\n",
              "      <td>106759</td>\n",
              "      <td>Joseph Gordon-Levitt</td>\n",
              "      <td>0.0</td>\n",
              "      <td>deception|imprisonment|lawlessness|police offi...</td>\n",
              "      <td>http://www.imdb.com/title/tt1345836/?ref_=fn_t...</td>\n",
              "      <td>2701.0</td>\n",
              "      <td>English</td>\n",
              "      <td>USA</td>\n",
              "      <td>PG-13</td>\n",
              "      <td>250000000.0</td>\n",
              "      <td>2012.0</td>\n",
              "      <td>23000.0</td>\n",
              "      <td>8.5</td>\n",
              "      <td>2.35</td>\n",
              "      <td>164000</td>\n",
              "      <td>NaN</td>\n",
              "      <td>2.0</td>\n",
              "      <td>The Dark Knight Rises</td>\n",
              "      <td>8.5</td>\n",
              "    </tr>\n",
              "    <tr>\n",
              "      <th>4</th>\n",
              "      <td>NaN</td>\n",
              "      <td>Doug Walker</td>\n",
              "      <td>NaN</td>\n",
              "      <td>NaN</td>\n",
              "      <td>131.0</td>\n",
              "      <td>NaN</td>\n",
              "      <td>Rob Walker</td>\n",
              "      <td>131.0</td>\n",
              "      <td>NaN</td>\n",
              "      <td>Documentary</td>\n",
              "      <td>Doug Walker</td>\n",
              "      <td>Star Wars: Episode VII - The Force Awakens</td>\n",
              "      <td>8</td>\n",
              "      <td>143</td>\n",
              "      <td>NaN</td>\n",
              "      <td>0.0</td>\n",
              "      <td>NaN</td>\n",
              "      <td>http://www.imdb.com/title/tt5289954/?ref_=fn_t...</td>\n",
              "      <td>NaN</td>\n",
              "      <td>NaN</td>\n",
              "      <td>NaN</td>\n",
              "      <td>NaN</td>\n",
              "      <td>NaN</td>\n",
              "      <td>NaN</td>\n",
              "      <td>12.0</td>\n",
              "      <td>7.1</td>\n",
              "      <td>NaN</td>\n",
              "      <td>0</td>\n",
              "      <td>NaN</td>\n",
              "      <td>2.0</td>\n",
              "      <td>Star Wars: Episode VII - The Force Awakens</td>\n",
              "      <td>7.1</td>\n",
              "    </tr>\n",
              "  </tbody>\n",
              "</table>\n",
              "</div>"
            ],
            "text/plain": [
              "   color  ... Rating\n",
              "0  Color  ...    7.9\n",
              "1  Color  ...    7.1\n",
              "2  Color  ...    6.8\n",
              "3  Color  ...    8.5\n",
              "4    NaN  ...    7.1\n",
              "\n",
              "[5 rows x 32 columns]"
            ]
          },
          "metadata": {
            "tags": []
          },
          "execution_count": 15
        }
      ]
    },
    {
      "cell_type": "code",
      "metadata": {
        "id": "EG4AmP0ChDKd"
      },
      "source": [
        "df.drop(['Unnamed: 28', 'User', 'Movie', 'Rating', 'color', 'num_critic_for_reviews', 'duration', 'director_facebook_likes', 'actor_3_facebook_likes' , 'actor_1_facebook_likes', 'gross', 'num_voted_users', 'cast_total_facebook_likes','facenumber_in_poster', 'plot_keywords','movie_imdb_link', 'num_user_for_reviews' , 'language', 'content_rating', 'budget', 'actor_2_facebook_likes', 'imdb_score', 'aspect_ratio','movie_facebook_likes', 'imdb_score', 'country','title_year' ], axis=1, inplace=True)"
      ],
      "execution_count": 16,
      "outputs": []
    },
    {
      "cell_type": "code",
      "metadata": {
        "colab": {
          "base_uri": "https://localhost:8080/",
          "height": 314
        },
        "id": "WPWSjiA_pZwq",
        "outputId": "3bb53631-499b-4157-c286-4176bf1b3679"
      },
      "source": [
        "df.head()"
      ],
      "execution_count": 17,
      "outputs": [
        {
          "output_type": "execute_result",
          "data": {
            "text/html": [
              "<div>\n",
              "<style scoped>\n",
              "    .dataframe tbody tr th:only-of-type {\n",
              "        vertical-align: middle;\n",
              "    }\n",
              "\n",
              "    .dataframe tbody tr th {\n",
              "        vertical-align: top;\n",
              "    }\n",
              "\n",
              "    .dataframe thead th {\n",
              "        text-align: right;\n",
              "    }\n",
              "</style>\n",
              "<table border=\"1\" class=\"dataframe\">\n",
              "  <thead>\n",
              "    <tr style=\"text-align: right;\">\n",
              "      <th></th>\n",
              "      <th>director_name</th>\n",
              "      <th>actor_2_name</th>\n",
              "      <th>genres</th>\n",
              "      <th>actor_1_name</th>\n",
              "      <th>movie_title</th>\n",
              "      <th>actor_3_name</th>\n",
              "    </tr>\n",
              "  </thead>\n",
              "  <tbody>\n",
              "    <tr>\n",
              "      <th>0</th>\n",
              "      <td>James Cameron</td>\n",
              "      <td>Joel David Moore</td>\n",
              "      <td>Action|Adventure|Fantasy|Sci-Fi</td>\n",
              "      <td>CCH Pounder</td>\n",
              "      <td>Avatar</td>\n",
              "      <td>Wes Studi</td>\n",
              "    </tr>\n",
              "    <tr>\n",
              "      <th>1</th>\n",
              "      <td>Gore Verbinski</td>\n",
              "      <td>Orlando Bloom</td>\n",
              "      <td>Action|Adventure|Fantasy</td>\n",
              "      <td>Johnny Depp</td>\n",
              "      <td>Pirates of the Caribbean: At World's End</td>\n",
              "      <td>Jack Davenport</td>\n",
              "    </tr>\n",
              "    <tr>\n",
              "      <th>2</th>\n",
              "      <td>Sam Mendes</td>\n",
              "      <td>Rory Kinnear</td>\n",
              "      <td>Action|Adventure|Thriller</td>\n",
              "      <td>Christoph Waltz</td>\n",
              "      <td>Spectre</td>\n",
              "      <td>Stephanie Sigman</td>\n",
              "    </tr>\n",
              "    <tr>\n",
              "      <th>3</th>\n",
              "      <td>Christopher Nolan</td>\n",
              "      <td>Christian Bale</td>\n",
              "      <td>Action|Thriller</td>\n",
              "      <td>Tom Hardy</td>\n",
              "      <td>The Dark Knight Rises</td>\n",
              "      <td>Joseph Gordon-Levitt</td>\n",
              "    </tr>\n",
              "    <tr>\n",
              "      <th>4</th>\n",
              "      <td>Doug Walker</td>\n",
              "      <td>Rob Walker</td>\n",
              "      <td>Documentary</td>\n",
              "      <td>Doug Walker</td>\n",
              "      <td>Star Wars: Episode VII - The Force Awakens</td>\n",
              "      <td>NaN</td>\n",
              "    </tr>\n",
              "  </tbody>\n",
              "</table>\n",
              "</div>"
            ],
            "text/plain": [
              "       director_name  ...          actor_3_name\n",
              "0      James Cameron  ...             Wes Studi\n",
              "1     Gore Verbinski  ...        Jack Davenport\n",
              "2         Sam Mendes  ...      Stephanie Sigman\n",
              "3  Christopher Nolan  ...  Joseph Gordon-Levitt\n",
              "4        Doug Walker  ...                   NaN\n",
              "\n",
              "[5 rows x 6 columns]"
            ]
          },
          "metadata": {
            "tags": []
          },
          "execution_count": 17
        }
      ]
    },
    {
      "cell_type": "code",
      "metadata": {
        "colab": {
          "base_uri": "https://localhost:8080/"
        },
        "id": "NbL1CfZPisL_",
        "outputId": "9ecc2220-6cef-46ca-81f4-96aa6cf6e9b1"
      },
      "source": [
        "df.shape"
      ],
      "execution_count": 18,
      "outputs": [
        {
          "output_type": "execute_result",
          "data": {
            "text/plain": [
              "(5043, 6)"
            ]
          },
          "metadata": {
            "tags": []
          },
          "execution_count": 18
        }
      ]
    },
    {
      "cell_type": "code",
      "metadata": {
        "id": "Dq87zhU8izXC"
      },
      "source": [
        "Movie=[]\n",
        "for x in range(0,1000):\n",
        "    Movie.append([str(df.values[x,y]) for y in range(0,6)])"
      ],
      "execution_count": 19,
      "outputs": []
    },
    {
      "cell_type": "code",
      "metadata": {
        "colab": {
          "base_uri": "https://localhost:8080/"
        },
        "id": "tkGwGRJMi4HV",
        "outputId": "70646f7f-8b12-43fc-f55c-a041c755ece1"
      },
      "source": [
        "Movie[:3]"
      ],
      "execution_count": 22,
      "outputs": [
        {
          "output_type": "execute_result",
          "data": {
            "text/plain": [
              "[['James Cameron',\n",
              "  'Joel David Moore',\n",
              "  'Action|Adventure|Fantasy|Sci-Fi',\n",
              "  'CCH Pounder',\n",
              "  'Avatar\\xa0',\n",
              "  'Wes Studi'],\n",
              " ['Gore Verbinski',\n",
              "  'Orlando Bloom',\n",
              "  'Action|Adventure|Fantasy',\n",
              "  'Johnny Depp',\n",
              "  \"Pirates of the Caribbean: At World's End\\xa0\",\n",
              "  'Jack Davenport'],\n",
              " ['Sam Mendes',\n",
              "  'Rory Kinnear',\n",
              "  'Action|Adventure|Thriller',\n",
              "  'Christoph Waltz',\n",
              "  'Spectre\\xa0',\n",
              "  'Stephanie Sigman']]"
            ]
          },
          "metadata": {
            "tags": []
          },
          "execution_count": 22
        }
      ]
    },
    {
      "cell_type": "code",
      "metadata": {
        "colab": {
          "base_uri": "https://localhost:8080/"
        },
        "id": "Nwa_ZUJATa2A",
        "outputId": "8a9819d5-0ac7-407c-e433-e85a15a46c9a"
      },
      "source": [
        "len(Movie)"
      ],
      "execution_count": 23,
      "outputs": [
        {
          "output_type": "execute_result",
          "data": {
            "text/plain": [
              "1000"
            ]
          },
          "metadata": {
            "tags": []
          },
          "execution_count": 23
        }
      ]
    },
    {
      "cell_type": "code",
      "metadata": {
        "id": "IYYX2ZK5fz05"
      },
      "source": [
        "# Transactions = []\n",
        "# user = [1, 2, 3]\n",
        "# for x in range(0, 1000):\n",
        "#   transaction[x][1]= random.choice(Movie)\n",
        "#   trancsaction[x][2]= random.choice(Movie)\n",
        "#   trancsaction[x][3]= random.choice(Movie)\n",
        "\n",
        "def getReccomendation(r):\n",
        "    for x in range(0,1000):\n",
        "      if (Movie)[x][3] == r[3] or (Movie)[x][2] == r[0] or (Movie)[x][2] == r[2]:\n",
        "        if Movie[x][4] != r[4]:\n",
        "          return Movie[x]\n",
        "        else:\n",
        "          return random.choice(Movie)\n",
        "      else: \n",
        "        return random.choice(Movie)"
      ],
      "execution_count": 24,
      "outputs": []
    },
    {
      "cell_type": "markdown",
      "metadata": {
        "id": "p5REVim0i-Jb"
      },
      "source": [
        ""
      ]
    },
    {
      "cell_type": "code",
      "metadata": {
        "id": "smSWDt3TjNQC"
      },
      "source": [
        "Mov_His=[]\n",
        "User_His=[]\n",
        "for x in range(0,1000):\n",
        "    firtsMovie = (random.choice(Movie))\n",
        "    User_His.append([])\n",
        "    Mov_His.append([])\n",
        "    Mov_His[x].append(getReccomendation(firtsMovie))\n",
        "    for y in range(0,9):\n",
        "      Mov_His[x].append(getReccomendation(Mov_His[x][y]))\n",
        "      User_His[x].append(Mov_His[x][y][4].replace(u'\\xa0', u''))"
      ],
      "execution_count": 28,
      "outputs": []
    },
    {
      "cell_type": "code",
      "metadata": {
        "colab": {
          "base_uri": "https://localhost:8080/"
        },
        "id": "vuLIW4T3jRKy",
        "outputId": "f23c5e94-fc4c-4b9e-daf9-862adde451b2"
      },
      "source": [
        "Mov_His[1]"
      ],
      "execution_count": 29,
      "outputs": [
        {
          "output_type": "execute_result",
          "data": {
            "text/plain": [
              "[['Barry Sonnenfeld',\n",
              "  'Rosario Dawson',\n",
              "  'Action|Adventure|Comedy|Family|Fantasy|Mystery|Sci-Fi',\n",
              "  'Will Smith',\n",
              "  'Men in Black II\\xa0',\n",
              "  'Rip Torn'],\n",
              " ['Peter Berg',\n",
              "  'Alexander Skarsgård',\n",
              "  'Action|Adventure|Sci-Fi|Thriller',\n",
              "  'Liam Neeson',\n",
              "  'Battleship\\xa0',\n",
              "  'Tadanobu Asano'],\n",
              " ['Taylor Hackford',\n",
              "  'Al Pacino',\n",
              "  'Drama|Mystery|Thriller',\n",
              "  'Keanu Reeves',\n",
              "  \"The Devil's Advocate\\xa0\",\n",
              "  'Charlize Theron'],\n",
              " ['Nancy Meyers',\n",
              "  'Hunter Parrish',\n",
              "  'Comedy|Drama|Romance',\n",
              "  'Meryl Streep',\n",
              "  \"It's Complicated\\xa0\",\n",
              "  'Zoe Kazan'],\n",
              " ['Bobby Farrelly',\n",
              "  'Brandy Norwood',\n",
              "  'Action|Adventure|Animation|Comedy|Crime|Family|Fantasy',\n",
              "  'Ron Howard',\n",
              "  'Osmosis Jones\\xa0',\n",
              "  'David Hyde Pierce'],\n",
              " ['Matt Birch',\n",
              "  'Toby Jones',\n",
              "  'Fantasy',\n",
              "  'Rupert Grint',\n",
              "  'Harry Potter and the Deathly Hallows: Part I\\xa0',\n",
              "  'Alfred Enoch'],\n",
              " ['Andrey Konchalovskiy',\n",
              "  'Jack Palance',\n",
              "  'Action|Comedy|Crime|Thriller',\n",
              "  'Sylvester Stallone',\n",
              "  'Tango & Cash\\xa0',\n",
              "  'Brion James'],\n",
              " ['Duncan Jones',\n",
              "  'Callum Rennie',\n",
              "  'Action|Adventure|Fantasy',\n",
              "  'Dominic Cooper',\n",
              "  'Warcraft\\xa0',\n",
              "  'Ruth Negga'],\n",
              " ['John Woo',\n",
              "  'Dougray Scott',\n",
              "  'Action|Adventure|Thriller',\n",
              "  'Tom Cruise',\n",
              "  'Mission: Impossible II\\xa0',\n",
              "  'Richard Roxburgh'],\n",
              " ['Louis Leterrier',\n",
              "  'Peter Mensah',\n",
              "  'Action|Adventure|Sci-Fi',\n",
              "  'Ty Burrell',\n",
              "  'The Incredible Hulk\\xa0',\n",
              "  'William Hurt']]"
            ]
          },
          "metadata": {
            "tags": []
          },
          "execution_count": 29
        }
      ]
    },
    {
      "cell_type": "code",
      "metadata": {
        "colab": {
          "base_uri": "https://localhost:8080/"
        },
        "id": "__ZsbpHZVJq9",
        "outputId": "7cd271e4-f857-4267-f79e-bb51e0c725e7"
      },
      "source": [
        "transactions = User_His\n",
        "transactions[:1]"
      ],
      "execution_count": 34,
      "outputs": [
        {
          "output_type": "execute_result",
          "data": {
            "text/plain": [
              "[['A Good Day to Die Hard',\n",
              "  'Kingdom of Heaven',\n",
              "  'Rise of the Planet of the Apes',\n",
              "  'Enemy of the State',\n",
              "  'Superman',\n",
              "  'Angels & Demons',\n",
              "  'The Day After Tomorrow',\n",
              "  'Inception',\n",
              "  'Unforgotten']]"
            ]
          },
          "metadata": {
            "tags": []
          },
          "execution_count": 34
        }
      ]
    },
    {
      "cell_type": "code",
      "metadata": {
        "colab": {
          "base_uri": "https://localhost:8080/",
          "height": 406
        },
        "id": "xUouICz1jTx3",
        "outputId": "0f2ebaea-492a-4fa4-ac1c-91d801e8b5d6"
      },
      "source": [
        "PersonA,PersonB,PersonC=[],[],[]\n",
        "for result in transactions: \n",
        "    PersonA.append(result[0])\n",
        "    PersonB.append(result[1])\n",
        "    PersonC.append(result[2])\n",
        "\n",
        "    columns=list(zip(PersonA,PersonB,PersonC))\n",
        "    dataset=pd.DataFrame(columns)\n",
        "    dataset.columns=['Film yang dipilih','Film yang dipilih','Film yang dipilih']\n",
        "dataset"
      ],
      "execution_count": 37,
      "outputs": [
        {
          "output_type": "execute_result",
          "data": {
            "text/html": [
              "<div>\n",
              "<style scoped>\n",
              "    .dataframe tbody tr th:only-of-type {\n",
              "        vertical-align: middle;\n",
              "    }\n",
              "\n",
              "    .dataframe tbody tr th {\n",
              "        vertical-align: top;\n",
              "    }\n",
              "\n",
              "    .dataframe thead th {\n",
              "        text-align: right;\n",
              "    }\n",
              "</style>\n",
              "<table border=\"1\" class=\"dataframe\">\n",
              "  <thead>\n",
              "    <tr style=\"text-align: right;\">\n",
              "      <th></th>\n",
              "      <th>Film yang dipilih</th>\n",
              "      <th>Film yang dipilih</th>\n",
              "      <th>Film yang dipilih</th>\n",
              "    </tr>\n",
              "  </thead>\n",
              "  <tbody>\n",
              "    <tr>\n",
              "      <th>0</th>\n",
              "      <td>A Good Day to Die Hard</td>\n",
              "      <td>Kingdom of Heaven</td>\n",
              "      <td>Rise of the Planet of the Apes</td>\n",
              "    </tr>\n",
              "    <tr>\n",
              "      <th>1</th>\n",
              "      <td>Men in Black II</td>\n",
              "      <td>Battleship</td>\n",
              "      <td>The Devil's Advocate</td>\n",
              "    </tr>\n",
              "    <tr>\n",
              "      <th>2</th>\n",
              "      <td>Planet 51</td>\n",
              "      <td>The Invasion</td>\n",
              "      <td>The Hunchback of Notre Dame</td>\n",
              "    </tr>\n",
              "    <tr>\n",
              "      <th>3</th>\n",
              "      <td>The Judge</td>\n",
              "      <td>Meet the Fockers</td>\n",
              "      <td>Epic</td>\n",
              "    </tr>\n",
              "    <tr>\n",
              "      <th>4</th>\n",
              "      <td>Spider-Man 2</td>\n",
              "      <td>Red Dawn</td>\n",
              "      <td>The Haunting</td>\n",
              "    </tr>\n",
              "    <tr>\n",
              "      <th>...</th>\n",
              "      <td>...</td>\n",
              "      <td>...</td>\n",
              "      <td>...</td>\n",
              "    </tr>\n",
              "    <tr>\n",
              "      <th>995</th>\n",
              "      <td>Home</td>\n",
              "      <td>True Lies</td>\n",
              "      <td>Herbie Fully Loaded</td>\n",
              "    </tr>\n",
              "    <tr>\n",
              "      <th>996</th>\n",
              "      <td>The Village</td>\n",
              "      <td>Rambo III</td>\n",
              "      <td>Alien: Resurrection</td>\n",
              "    </tr>\n",
              "    <tr>\n",
              "      <th>997</th>\n",
              "      <td>RED</td>\n",
              "      <td>Dark Shadows</td>\n",
              "      <td>Shark Tale</td>\n",
              "    </tr>\n",
              "    <tr>\n",
              "      <th>998</th>\n",
              "      <td>Changeling</td>\n",
              "      <td>Monsters University</td>\n",
              "      <td>The Polar Express</td>\n",
              "    </tr>\n",
              "    <tr>\n",
              "      <th>999</th>\n",
              "      <td>The Legend of Tarzan</td>\n",
              "      <td>Robots</td>\n",
              "      <td>Batman Forever</td>\n",
              "    </tr>\n",
              "  </tbody>\n",
              "</table>\n",
              "<p>1000 rows × 3 columns</p>\n",
              "</div>"
            ],
            "text/plain": [
              "          Film yang dipilih  ...               Film yang dipilih\n",
              "0    A Good Day to Die Hard  ...  Rise of the Planet of the Apes\n",
              "1           Men in Black II  ...            The Devil's Advocate\n",
              "2                 Planet 51  ...     The Hunchback of Notre Dame\n",
              "3                 The Judge  ...                            Epic\n",
              "4              Spider-Man 2  ...                    The Haunting\n",
              "..                      ...  ...                             ...\n",
              "995                    Home  ...             Herbie Fully Loaded\n",
              "996             The Village  ...             Alien: Resurrection\n",
              "997                     RED  ...                      Shark Tale\n",
              "998              Changeling  ...               The Polar Express\n",
              "999    The Legend of Tarzan  ...                  Batman Forever\n",
              "\n",
              "[1000 rows x 3 columns]"
            ]
          },
          "metadata": {
            "tags": []
          },
          "execution_count": 37
        }
      ]
    },
    {
      "cell_type": "code",
      "metadata": {
        "colab": {
          "base_uri": "https://localhost:8080/"
        },
        "id": "0Yka4Sr8kSxo",
        "outputId": "d6ace9e1-64ca-41e5-cb38-177b202bd404"
      },
      "source": [
        "from pymining import itemmining, assocrules, perftesting\n",
        "\n",
        "sup = 0.003 \n",
        "\n",
        "relim_input = itemmining.get_relim_input(transactions)\n",
        "item_sets = itemmining.relim(relim_input, int(len(transactions) * sup))\n",
        "rules = assocrules.mine_assoc_rules(item_sets, min_support=0.003, min_confidence=0.2)\n",
        "rules"
      ],
      "execution_count": 38,
      "outputs": [
        {
          "output_type": "execute_result",
          "data": {
            "text/plain": [
              "[(frozenset({'The Scorch Trials'}), frozenset({'Practical Magic'}), 3, 0.25),\n",
              " (frozenset({'Practical Magic'}), frozenset({'The Scorch Trials'}), 3, 0.75),\n",
              " (frozenset({'Yogi Bear'}), frozenset({'Meet Joe Black'}), 3, 0.25),\n",
              " (frozenset({'Meet Joe Black'}), frozenset({'Yogi Bear'}), 3, 0.6),\n",
              " (frozenset({'The Amazing Spider-Man 2'}), frozenset({'Avatar'}), 5, 1.0),\n",
              " (frozenset({'End of Days'}), frozenset({'Avatar'}), 6, 1.0),\n",
              " (frozenset({'Man of Steel'}), frozenset({'Avatar'}), 6, 1.0),\n",
              " (frozenset({'Almost Famous'}),\n",
              "  frozenset({'The Kingdom'}),\n",
              "  3,\n",
              "  0.42857142857142855),\n",
              " (frozenset({'The Kingdom'}),\n",
              "  frozenset({'Almost Famous'}),\n",
              "  3,\n",
              "  0.23076923076923078),\n",
              " (frozenset({'Star Wars: Episode I - The Phantom Menace'}),\n",
              "  frozenset({'Avatar'}),\n",
              "  7,\n",
              "  1.0),\n",
              " (frozenset({'Star Wars: Episode III - Revenge of the Sith'}),\n",
              "  frozenset({'Avatar'}),\n",
              "  7,\n",
              "  1.0),\n",
              " (frozenset({'Frozen'}), frozenset({'Timeline'}), 3, 0.3),\n",
              " (frozenset({'Timeline'}), frozenset({'Frozen'}), 3, 0.42857142857142855),\n",
              " (frozenset({'A Very Long Engagement'}),\n",
              "  frozenset({'Town & Country'}),\n",
              "  3,\n",
              "  0.375),\n",
              " (frozenset({'Town & Country'}),\n",
              "  frozenset({'A Very Long Engagement'}),\n",
              "  3,\n",
              "  0.23076923076923078),\n",
              " (frozenset({'The Pirates! Band of Misfits'}),\n",
              "  frozenset({'Joy'}),\n",
              "  3,\n",
              "  0.21428571428571427),\n",
              " (frozenset({'Joy'}), frozenset({'The Pirates! Band of Misfits'}), 3, 0.375),\n",
              " (frozenset({'Oliver Twist'}),\n",
              "  frozenset({'The Twilight Saga: New Moon'}),\n",
              "  3,\n",
              "  0.375),\n",
              " (frozenset({'The Black Dahlia'}),\n",
              "  frozenset({'Top Cat Begins'}),\n",
              "  3,\n",
              "  0.23076923076923078),\n",
              " (frozenset({'Top Cat Begins'}), frozenset({'The Black Dahlia'}), 3, 0.375),\n",
              " (frozenset({'Alien: Resurrection'}),\n",
              "  frozenset({\"Valentine's Day\"}),\n",
              "  3,\n",
              "  0.3333333333333333),\n",
              " (frozenset({\"Valentine's Day\"}), frozenset({'Alien: Resurrection'}), 3, 0.3),\n",
              " (frozenset({'The Ring Two'}),\n",
              "  frozenset({'King Kong'}),\n",
              "  3,\n",
              "  0.2727272727272727),\n",
              " (frozenset({'King Kong'}),\n",
              "  frozenset({'The Ring Two'}),\n",
              "  3,\n",
              "  0.3333333333333333),\n",
              " (frozenset({'Stealth'}), frozenset({'Hercules'}), 3, 0.3333333333333333),\n",
              " (frozenset({'The Time Machine'}),\n",
              "  frozenset({'Avatar'}),\n",
              "  3,\n",
              "  0.3333333333333333),\n",
              " (frozenset({'Alice in Wonderland'}),\n",
              "  frozenset({'2 Guns'}),\n",
              "  3,\n",
              "  0.21428571428571427),\n",
              " (frozenset({'2 Guns'}), frozenset({'Alice in Wonderland'}), 3, 0.3),\n",
              " (frozenset({'How to Train Your Dragon 2'}),\n",
              "  frozenset({'Astro Boy'}),\n",
              "  3,\n",
              "  0.25),\n",
              " (frozenset({'Astro Boy'}), frozenset({'How to Train Your Dragon 2'}), 3, 0.3),\n",
              " (frozenset({'Captain America: The First Avenger'}),\n",
              "  frozenset({'Rio 2'}),\n",
              "  3,\n",
              "  0.3),\n",
              " (frozenset({'Charlie and the Chocolate Factory'}),\n",
              "  frozenset({'Avatar'}),\n",
              "  3,\n",
              "  0.3),\n",
              " (frozenset({'Meet the Parents'}), frozenset({'Eagle Eye'}), 3, 0.3),\n",
              " (frozenset({'Eagle Eye'}), frozenset({'Meet the Parents'}), 3, 0.3),\n",
              " (frozenset({'Changeling'}), frozenset({'Hancock'}), 3, 0.25),\n",
              " (frozenset({'Hancock'}), frozenset({'Changeling'}), 3, 0.3),\n",
              " (frozenset({'The Pirates! Band of Misfits'}),\n",
              "  frozenset({'I Am Legend'}),\n",
              "  3,\n",
              "  0.21428571428571427),\n",
              " (frozenset({'I Am Legend'}),\n",
              "  frozenset({'The Pirates! Band of Misfits'}),\n",
              "  3,\n",
              "  0.3),\n",
              " (frozenset({'The Kid'}),\n",
              "  frozenset({'How the Grinch Stole Christmas'}),\n",
              "  3,\n",
              "  0.3),\n",
              " (frozenset({'How the Grinch Stole Christmas'}),\n",
              "  frozenset({'The Kid'}),\n",
              "  3,\n",
              "  0.21428571428571427),\n",
              " (frozenset({'Star Trek'}),\n",
              "  frozenset({'Event Horizon'}),\n",
              "  3,\n",
              "  0.2727272727272727),\n",
              " (frozenset({'Event Horizon'}),\n",
              "  frozenset({'Star Trek'}),\n",
              "  3,\n",
              "  0.2727272727272727),\n",
              " (frozenset({'Red Dragon'}),\n",
              "  frozenset({'Jurassic World'}),\n",
              "  3,\n",
              "  0.2727272727272727),\n",
              " (frozenset({'Seventh Son'}), frozenset({'Avatar'}), 3, 0.2727272727272727),\n",
              " (frozenset({'Star Wars: Episode II - Attack of the Clones'}),\n",
              "  frozenset({'Avatar'}),\n",
              "  9,\n",
              "  0.8181818181818182),\n",
              " (frozenset({'The Change-Up'}), frozenset({'Avatar'}), 4, 0.36363636363636365),\n",
              " (frozenset({'Bedtime Stories'}), frozenset({'Avatar'}), 3, 0.25),\n",
              " (frozenset({'How to Train Your Dragon 2'}),\n",
              "  frozenset({'G.I. Joe: The Rise of Cobra'}),\n",
              "  3,\n",
              "  0.25),\n",
              " (frozenset({'G.I. Joe: The Rise of Cobra'}),\n",
              "  frozenset({'How to Train Your Dragon 2'}),\n",
              "  3,\n",
              "  0.25),\n",
              " (frozenset({'Teenage Mutant Ninja Turtles: Out of the Shadows'}),\n",
              "  frozenset({'Rio 2'}),\n",
              "  3,\n",
              "  0.25),\n",
              " (frozenset({'Spider-Man'}),\n",
              "  frozenset({'Jurassic World'}),\n",
              "  3,\n",
              "  0.23076923076923078),\n",
              " (frozenset({'The Dilemma'}),\n",
              "  frozenset({'300: Rise of an Empire'}),\n",
              "  3,\n",
              "  0.21428571428571427),\n",
              " (frozenset({'300: Rise of an Empire'}),\n",
              "  frozenset({'The Dilemma'}),\n",
              "  3,\n",
              "  0.21428571428571427),\n",
              " (frozenset({'Ballistic: Ecks vs. Sever'}),\n",
              "  frozenset({'Angels & Demons'}),\n",
              "  3,\n",
              "  0.2),\n",
              " (frozenset({'Angels & Demons'}),\n",
              "  frozenset({'Ballistic: Ecks vs. Sever'}),\n",
              "  3,\n",
              "  0.21428571428571427),\n",
              " (frozenset({'Hannibal'}), frozenset({'Get Smart'}), 3, 0.21428571428571427),\n",
              " (frozenset({'Meet the Fockers'}),\n",
              "  frozenset({'Avatar'}),\n",
              "  3,\n",
              "  0.21428571428571427),\n",
              " (frozenset({'Perfume: The Story of a Murderer'}),\n",
              "  frozenset({'Patch Adams'}),\n",
              "  3,\n",
              "  0.2),\n",
              " (frozenset({'Patch Adams'}),\n",
              "  frozenset({'Perfume: The Story of a Murderer'}),\n",
              "  3,\n",
              "  0.21428571428571427),\n",
              " (frozenset({'The Girl with the Dragon Tattoo'}),\n",
              "  frozenset({'Avatar'}),\n",
              "  4,\n",
              "  0.2857142857142857),\n",
              " (frozenset({'Harry Potter and the Deathly Hallows: Part I'}),\n",
              "  frozenset({'The Legend of Tarzan'}),\n",
              "  3,\n",
              "  0.2),\n",
              " (frozenset({'Red Planet'}), frozenset({'Alexander'}), 3, 0.2),\n",
              " (frozenset({\"Something's Gotta Give\"}),\n",
              "  frozenset({'The Twilight Saga: Breaking Dawn - Part 2'}),\n",
              "  3,\n",
              "  0.2)]"
            ]
          },
          "metadata": {
            "tags": []
          },
          "execution_count": 38
        }
      ]
    },
    {
      "cell_type": "code",
      "metadata": {
        "colab": {
          "base_uri": "https://localhost:8080/"
        },
        "id": "bmiPPbebBQ_A",
        "outputId": "0db5dbc1-8e79-4e15-b03b-0015da8dc4b4"
      },
      "source": [
        "len(rules)"
      ],
      "execution_count": 39,
      "outputs": [
        {
          "output_type": "execute_result",
          "data": {
            "text/plain": [
              "63"
            ]
          },
          "metadata": {
            "tags": []
          },
          "execution_count": 39
        }
      ]
    },
    {
      "cell_type": "code",
      "metadata": {
        "colab": {
          "base_uri": "https://localhost:8080/"
        },
        "id": "REEycdJJ554M",
        "outputId": "0c0c10a7-eefc-4dc2-95cf-5b87a7a96d8d"
      },
      "source": [
        "rules[1]"
      ],
      "execution_count": 40,
      "outputs": [
        {
          "output_type": "execute_result",
          "data": {
            "text/plain": [
              "(frozenset({'Practical Magic'}), frozenset({'The Scorch Trials'}), 3, 0.75)"
            ]
          },
          "metadata": {
            "tags": []
          },
          "execution_count": 40
        }
      ]
    },
    {
      "cell_type": "code",
      "metadata": {
        "colab": {
          "base_uri": "https://localhost:8080/"
        },
        "id": "LEjVbtod5ikf",
        "outputId": "e04f1fa1-6afb-4b42-c5ba-b091225878b3"
      },
      "source": [
        "for x in rules : print (x,end = '\\n')"
      ],
      "execution_count": 41,
      "outputs": [
        {
          "output_type": "stream",
          "text": [
            "(frozenset({'The Scorch Trials'}), frozenset({'Practical Magic'}), 3, 0.25)\n",
            "(frozenset({'Practical Magic'}), frozenset({'The Scorch Trials'}), 3, 0.75)\n",
            "(frozenset({'Yogi Bear'}), frozenset({'Meet Joe Black'}), 3, 0.25)\n",
            "(frozenset({'Meet Joe Black'}), frozenset({'Yogi Bear'}), 3, 0.6)\n",
            "(frozenset({'The Amazing Spider-Man 2'}), frozenset({'Avatar'}), 5, 1.0)\n",
            "(frozenset({'End of Days'}), frozenset({'Avatar'}), 6, 1.0)\n",
            "(frozenset({'Man of Steel'}), frozenset({'Avatar'}), 6, 1.0)\n",
            "(frozenset({'Almost Famous'}), frozenset({'The Kingdom'}), 3, 0.42857142857142855)\n",
            "(frozenset({'The Kingdom'}), frozenset({'Almost Famous'}), 3, 0.23076923076923078)\n",
            "(frozenset({'Star Wars: Episode I - The Phantom Menace'}), frozenset({'Avatar'}), 7, 1.0)\n",
            "(frozenset({'Star Wars: Episode III - Revenge of the Sith'}), frozenset({'Avatar'}), 7, 1.0)\n",
            "(frozenset({'Frozen'}), frozenset({'Timeline'}), 3, 0.3)\n",
            "(frozenset({'Timeline'}), frozenset({'Frozen'}), 3, 0.42857142857142855)\n",
            "(frozenset({'A Very Long Engagement'}), frozenset({'Town & Country'}), 3, 0.375)\n",
            "(frozenset({'Town & Country'}), frozenset({'A Very Long Engagement'}), 3, 0.23076923076923078)\n",
            "(frozenset({'The Pirates! Band of Misfits'}), frozenset({'Joy'}), 3, 0.21428571428571427)\n",
            "(frozenset({'Joy'}), frozenset({'The Pirates! Band of Misfits'}), 3, 0.375)\n",
            "(frozenset({'Oliver Twist'}), frozenset({'The Twilight Saga: New Moon'}), 3, 0.375)\n",
            "(frozenset({'The Black Dahlia'}), frozenset({'Top Cat Begins'}), 3, 0.23076923076923078)\n",
            "(frozenset({'Top Cat Begins'}), frozenset({'The Black Dahlia'}), 3, 0.375)\n",
            "(frozenset({'Alien: Resurrection'}), frozenset({\"Valentine's Day\"}), 3, 0.3333333333333333)\n",
            "(frozenset({\"Valentine's Day\"}), frozenset({'Alien: Resurrection'}), 3, 0.3)\n",
            "(frozenset({'The Ring Two'}), frozenset({'King Kong'}), 3, 0.2727272727272727)\n",
            "(frozenset({'King Kong'}), frozenset({'The Ring Two'}), 3, 0.3333333333333333)\n",
            "(frozenset({'Stealth'}), frozenset({'Hercules'}), 3, 0.3333333333333333)\n",
            "(frozenset({'The Time Machine'}), frozenset({'Avatar'}), 3, 0.3333333333333333)\n",
            "(frozenset({'Alice in Wonderland'}), frozenset({'2 Guns'}), 3, 0.21428571428571427)\n",
            "(frozenset({'2 Guns'}), frozenset({'Alice in Wonderland'}), 3, 0.3)\n",
            "(frozenset({'How to Train Your Dragon 2'}), frozenset({'Astro Boy'}), 3, 0.25)\n",
            "(frozenset({'Astro Boy'}), frozenset({'How to Train Your Dragon 2'}), 3, 0.3)\n",
            "(frozenset({'Captain America: The First Avenger'}), frozenset({'Rio 2'}), 3, 0.3)\n",
            "(frozenset({'Charlie and the Chocolate Factory'}), frozenset({'Avatar'}), 3, 0.3)\n",
            "(frozenset({'Meet the Parents'}), frozenset({'Eagle Eye'}), 3, 0.3)\n",
            "(frozenset({'Eagle Eye'}), frozenset({'Meet the Parents'}), 3, 0.3)\n",
            "(frozenset({'Changeling'}), frozenset({'Hancock'}), 3, 0.25)\n",
            "(frozenset({'Hancock'}), frozenset({'Changeling'}), 3, 0.3)\n",
            "(frozenset({'The Pirates! Band of Misfits'}), frozenset({'I Am Legend'}), 3, 0.21428571428571427)\n",
            "(frozenset({'I Am Legend'}), frozenset({'The Pirates! Band of Misfits'}), 3, 0.3)\n",
            "(frozenset({'The Kid'}), frozenset({'How the Grinch Stole Christmas'}), 3, 0.3)\n",
            "(frozenset({'How the Grinch Stole Christmas'}), frozenset({'The Kid'}), 3, 0.21428571428571427)\n",
            "(frozenset({'Star Trek'}), frozenset({'Event Horizon'}), 3, 0.2727272727272727)\n",
            "(frozenset({'Event Horizon'}), frozenset({'Star Trek'}), 3, 0.2727272727272727)\n",
            "(frozenset({'Red Dragon'}), frozenset({'Jurassic World'}), 3, 0.2727272727272727)\n",
            "(frozenset({'Seventh Son'}), frozenset({'Avatar'}), 3, 0.2727272727272727)\n",
            "(frozenset({'Star Wars: Episode II - Attack of the Clones'}), frozenset({'Avatar'}), 9, 0.8181818181818182)\n",
            "(frozenset({'The Change-Up'}), frozenset({'Avatar'}), 4, 0.36363636363636365)\n",
            "(frozenset({'Bedtime Stories'}), frozenset({'Avatar'}), 3, 0.25)\n",
            "(frozenset({'How to Train Your Dragon 2'}), frozenset({'G.I. Joe: The Rise of Cobra'}), 3, 0.25)\n",
            "(frozenset({'G.I. Joe: The Rise of Cobra'}), frozenset({'How to Train Your Dragon 2'}), 3, 0.25)\n",
            "(frozenset({'Teenage Mutant Ninja Turtles: Out of the Shadows'}), frozenset({'Rio 2'}), 3, 0.25)\n",
            "(frozenset({'Spider-Man'}), frozenset({'Jurassic World'}), 3, 0.23076923076923078)\n",
            "(frozenset({'The Dilemma'}), frozenset({'300: Rise of an Empire'}), 3, 0.21428571428571427)\n",
            "(frozenset({'300: Rise of an Empire'}), frozenset({'The Dilemma'}), 3, 0.21428571428571427)\n",
            "(frozenset({'Ballistic: Ecks vs. Sever'}), frozenset({'Angels & Demons'}), 3, 0.2)\n",
            "(frozenset({'Angels & Demons'}), frozenset({'Ballistic: Ecks vs. Sever'}), 3, 0.21428571428571427)\n",
            "(frozenset({'Hannibal'}), frozenset({'Get Smart'}), 3, 0.21428571428571427)\n",
            "(frozenset({'Meet the Fockers'}), frozenset({'Avatar'}), 3, 0.21428571428571427)\n",
            "(frozenset({'Perfume: The Story of a Murderer'}), frozenset({'Patch Adams'}), 3, 0.2)\n",
            "(frozenset({'Patch Adams'}), frozenset({'Perfume: The Story of a Murderer'}), 3, 0.21428571428571427)\n",
            "(frozenset({'The Girl with the Dragon Tattoo'}), frozenset({'Avatar'}), 4, 0.2857142857142857)\n",
            "(frozenset({'Harry Potter and the Deathly Hallows: Part I'}), frozenset({'The Legend of Tarzan'}), 3, 0.2)\n",
            "(frozenset({'Red Planet'}), frozenset({'Alexander'}), 3, 0.2)\n",
            "(frozenset({\"Something's Gotta Give\"}), frozenset({'The Twilight Saga: Breaking Dawn - Part 2'}), 3, 0.2)\n"
          ],
          "name": "stdout"
        }
      ]
    }
  ]
}